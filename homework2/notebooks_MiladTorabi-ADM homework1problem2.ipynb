{
  "metadata": {
    "kernelspec": {
      "name": "python",
      "display_name": "Python (Pyodide)",
      "language": "python"
    },
    "language_info": {
      "codemirror_mode": {
        "name": "python",
        "version": 3
      },
      "file_extension": ".py",
      "mimetype": "text/x-python",
      "name": "python",
      "nbconvert_exporter": "python",
      "pygments_lexer": "ipython3",
      "version": "3.8"
    }
  },
  "nbformat_minor": 5,
  "nbformat": 4,
  "cells": [
    {
      "cell_type": "markdown",
      "source": "## This is homework1/problem2 of ADM subject-Sapienza University done by Milad Torabi.\n### Problem 2 : the list of demanded tasks is below:\n#### 1.birthday-cake-candles\n#### 2.Number Line Jumps(kangaroo) \n#### 3.strange-advertising\n#### 4.recursive-digit-sum\n#### 5.insertionsort1\n#### 6.insertionsort2",
      "metadata": {},
      "id": "62ee6b01-0dd6-457c-a519-5fd05ca6466a"
    },
    {
      "cell_type": "markdown",
      "source": "#### 1.birthday-cake-candles • https://www.hackerrank.com/challenges/birthday-cake-candles",
      "metadata": {},
      "id": "b4f605ac-8bc1-4acb-9545-fc52e719794b"
    },
    {
      "cell_type": "code",
      "source": "#!/bin/python3\n\nimport math\nimport os\nimport random\nimport re\nimport sys\n\n#\n# Complete the 'birthdayCakeCandles' function below.\n#\n# The function is expected to return an INTEGER.\n# The function accepts INTEGER_ARRAY candles as parameter.\n#\n\ndef birthdayCakeCandles(candles):\n    candle_max=max(candles)\n    num_candle_max=candles.count(candle_max)\n\n    return num_candle_max\n\nif __name__ == '__main__':\n    fptr = open(os.environ['OUTPUT_PATH'], 'w')\n\n    candles_count = int(input().strip())\n\n    candles = list(map(int, input().rstrip().split()))\n\n    result = birthdayCakeCandles(candles)\n\n    fptr.write(str(result) + '\\n')\n\n    fptr.close()\n",
      "metadata": {
        "trusted": true
      },
      "execution_count": 1,
      "outputs": [
        {
          "ename": "<class 'KeyError'>",
          "evalue": "'OUTPUT_PATH'",
          "traceback": [
            "\u001b[0;31m---------------------------------------------------------------------------\u001b[0m",
            "\u001b[0;31mKeyError\u001b[0m                                  Traceback (most recent call last)",
            "Cell \u001b[0;32mIn[1], line 23\u001b[0m\n\u001b[1;32m     20\u001b[0m     \u001b[38;5;28;01mreturn\u001b[39;00m num_candle_max\n\u001b[1;32m     22\u001b[0m \u001b[38;5;28;01mif\u001b[39;00m \u001b[38;5;18m__name__\u001b[39m \u001b[38;5;241m==\u001b[39m \u001b[38;5;124m'\u001b[39m\u001b[38;5;124m__main__\u001b[39m\u001b[38;5;124m'\u001b[39m:\n\u001b[0;32m---> 23\u001b[0m     fptr \u001b[38;5;241m=\u001b[39m \u001b[38;5;28mopen\u001b[39m(\u001b[43mos\u001b[49m\u001b[38;5;241;43m.\u001b[39;49m\u001b[43menviron\u001b[49m\u001b[43m[\u001b[49m\u001b[38;5;124;43m'\u001b[39;49m\u001b[38;5;124;43mOUTPUT_PATH\u001b[39;49m\u001b[38;5;124;43m'\u001b[39;49m\u001b[43m]\u001b[49m, \u001b[38;5;124m'\u001b[39m\u001b[38;5;124mw\u001b[39m\u001b[38;5;124m'\u001b[39m)\n\u001b[1;32m     25\u001b[0m     candles_count \u001b[38;5;241m=\u001b[39m \u001b[38;5;28mint\u001b[39m(\u001b[38;5;28minput\u001b[39m()\u001b[38;5;241m.\u001b[39mstrip())\n\u001b[1;32m     27\u001b[0m     candles \u001b[38;5;241m=\u001b[39m \u001b[38;5;28mlist\u001b[39m(\u001b[38;5;28mmap\u001b[39m(\u001b[38;5;28mint\u001b[39m, \u001b[38;5;28minput\u001b[39m()\u001b[38;5;241m.\u001b[39mrstrip()\u001b[38;5;241m.\u001b[39msplit()))\n",
            "File \u001b[0;32m<frozen os>:679\u001b[0m, in \u001b[0;36m__getitem__\u001b[0;34m(self, key)\u001b[0m\n",
            "\u001b[0;31mKeyError\u001b[0m: 'OUTPUT_PATH'"
          ],
          "output_type": "error"
        }
      ],
      "id": "4f9d6532-aeb3-4b3b-b0ce-4b8d7e6b3223"
    },
    {
      "cell_type": "markdown",
      "source": "#### 2.Number Line Jumps(kangaroo)  • https://www.hackerrank.com/challenges/kangaroo",
      "metadata": {},
      "id": "41eda80f-8982-4940-a621-8c6ab0b9b47e"
    },
    {
      "cell_type": "code",
      "source": "#!/bin/python3\n\nimport math\nimport os\nimport random\nimport re\nimport sys\n\n#\n# Complete the 'kangaroo' function below.\n#\n# The function is expected to return a STRING.\n# The function accepts following parameters:\n#  1. INTEGER x1\n#  2. INTEGER v1\n#  3. INTEGER x2\n#  4. INTEGER v2\n#\n\ndef kangaroo(x1, v1, x2, v2):\n    if x1 == x2 and v1 == v2:\n        return \"YES\"\n    elif (x1 > x2 and v1 >= v2) or (x2 > x1 and v2 >= v1):\n        return \"NO\"\n    elif (x2 - x1) % (v1 - v2) == 0: #the optimal instead of saying x1+(v1*i)==x2+(v2*i)\n        return \"YES\"\n    else:\n        return \"NO\"\nif __name__ == '__main__':\n    fptr = open(os.environ['OUTPUT_PATH'], 'w')\n\n    first_multiple_input = input().rstrip().split()\n\n    x1 = int(first_multiple_input[0])\n\n    v1 = int(first_multiple_input[1])\n\n    x2 = int(first_multiple_input[2])\n\n    v2 = int(first_multiple_input[3])\n\n    result = kangaroo(x1, v1, x2, v2)\n\n    fptr.write(result + '\\n')\n\n    fptr.close()\n",
      "metadata": {},
      "execution_count": null,
      "outputs": [],
      "id": "3977c616-6872-42ca-9139-6d4bd29703ec"
    },
    {
      "cell_type": "markdown",
      "source": "#### 3.strange-advertising • https://www.hackerrank.com/challenges/strange-advertising",
      "metadata": {},
      "id": "042edeac-59c0-4f69-9984-777a4d9696d7"
    },
    {
      "cell_type": "code",
      "source": "#!/bin/python3\n\nimport math\nimport os\nimport random\nimport re\nimport sys\n\n#\n# Complete the 'viralAdvertising' function below.\n#\n# The function is expected to return an INTEGER.\n# The function accepts INTEGER n as parameter.\n#\n\ndef viralAdvertising(n):\n    c=0 #as cumulative\n    s=5 #as shared\n    d=1 #as day\n    \n    while d<= n:\n        liked=s//2\n        c += liked\n        s = liked*3\n        d+=1\n    \n    return c\n\nif __name__ == '__main__':\n    fptr = open(os.environ['OUTPUT_PATH'], 'w')\n\n    n = int(input().strip())\n\n    result = viralAdvertising(n)\n\n    fptr.write(str(result) + '\\n')\n\n    fptr.close()\n",
      "metadata": {},
      "execution_count": null,
      "outputs": [],
      "id": "2d4f03ca-27cc-4832-9055-9adfb1400338"
    },
    {
      "cell_type": "markdown",
      "source": "#### 4.recursive-digit-sum https://www.hackerrank.com/challenges/recursive-digit-sum",
      "metadata": {},
      "id": "40ea2a0b-7fe0-40dd-91d8-1604a31554e4"
    },
    {
      "cell_type": "code",
      "source": "#!/bin/python3\n\nimport math\nimport os\nimport random\nimport re\nimport sys\n\n#\n# Complete the 'superDigit' function below.\n#\n# The function is expected to return an INTEGER.\n# The function accepts following parameters:\n#  1. STRING n\n#  2. INTEGER k\n#\n\ndef superDigit(n, k):\n    r = str(sum(int(i) for i in n)* k)\n    while True:\n        r = str(sum(int(i) for i in r))\n        if (len(r) == 1):\n            break    \n    return r\n\nif __name__ == '__main__':\n    fptr = open(os.environ['OUTPUT_PATH'], 'w')\n\n    first_multiple_input = input().rstrip().split()\n\n    n = first_multiple_input[0]\n\n    k = int(first_multiple_input[1])\n\n    result = superDigit(n, k)\n\n    fptr.write(str(result) + '\\n')\n\n    fptr.close()\n",
      "metadata": {},
      "execution_count": null,
      "outputs": [],
      "id": "69999b3d-0303-4080-9be4-459abe76fdef"
    },
    {
      "cell_type": "markdown",
      "source": "#### 5.insertionsort1 • https://www.hackerrank.com/challenges/insertionsort1",
      "metadata": {},
      "id": "d9f86992-9274-47ad-86de-5f964bb9625a"
    },
    {
      "cell_type": "code",
      "source": "#!/bin/python3\n\nimport math\nimport os\nimport random\nimport re\nimport sys\n\n#\n# Complete the 'insertionSort1' function below.\n#\n# The function accepts following parameters:\n#  1. INTEGER n\n#  2. INTEGER_ARRAY arr\n#\n\ndef insertionSort1(n, arr):\n    probe = arr[-1]\n    for ind in range(len(arr)-2, -1, -1):\n        if arr[ind] > probe:\n            arr[ind+1] = arr[ind]\n            print(\" \".join(map(str, arr)))\n        else:\n            arr[ind+1] = probe\n            print(\" \".join(map(str, arr)))\n            break\n    if arr[0] > probe:\n        arr[0] = probe\n        print(\" \".join(map(str, arr)))\n\nif __name__ == '__main__':\n    n = int(input().strip())\n\n    arr = list(map(int, input().rstrip().split()))\n\n    insertionSort1(n, arr)\n",
      "metadata": {},
      "execution_count": null,
      "outputs": [],
      "id": "9eccd6aa-8133-4853-a016-081483db1102"
    },
    {
      "cell_type": "markdown",
      "source": "#### 6.insertionsort2 • https://www.hackerrank.com/challenges/insertionsort2",
      "metadata": {},
      "id": "71134c22-248e-48af-961e-3177d8aab65f"
    },
    {
      "cell_type": "code",
      "source": "#!/bin/python3\n\nimport math\nimport os\nimport random\nimport re\nimport sys\n\n#\n# Complete the 'insertionSort2' function below.\n#\n# The function accepts following parameters:\n#  1. INTEGER n\n#  2. INTEGER_ARRAY arr\n#\n\ndef insertionSort2(n, arr):\n    for i in range(1, n):\n        j = i\n        while j > 0 and arr[j] < arr[j - 1]:\n            arr[j], arr[j - 1] = arr[j - 1], arr[j]\n            j -= 1\n        print(*arr)\n        \nif __name__ == '__main__':\n    n = int(input().strip())\n\n    arr = list(map(int, input().rstrip().split()))\n\n    insertionSort2(n, arr)\n",
      "metadata": {},
      "execution_count": null,
      "outputs": [],
      "id": "afb61b1d-aceb-451f-8e8f-116e56dc87b9"
    }
  ]
}